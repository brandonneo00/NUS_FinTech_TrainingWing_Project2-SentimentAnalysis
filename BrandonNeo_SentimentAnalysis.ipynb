{
  "cells": [
    {
      "cell_type": "code",
      "execution_count": 3,
      "metadata": {
        "id": "dcbKzuKck-r0"
      },
      "outputs": [],
      "source": [
        "import pandas as pd\n",
        "import numpy as np\n",
        "import tensorflow as tf\n",
        "from tensorflow.keras.models import Sequential\n",
        "from tensorflow.keras.regularizers import L2\n",
        "from tensorflow.keras.layers import Dense, LSTM, Dropout, BatchNormalization\n",
        "import matplotlib.pyplot as plt\n",
        "from tensorflow.keras.preprocessing.text import Tokenizer\n",
        "from tensorflow.keras.preprocessing.sequence import pad_sequences\n",
        "import nltk\n",
        "\n",
        "\n",
        "from sklearn import preprocessing"
      ]
    },
    {
      "cell_type": "code",
      "execution_count": 4,
      "metadata": {
        "id": "qFB6qAnrlPQf",
        "colab": {
          "base_uri": "https://localhost:8080/"
        },
        "outputId": "79c49283-3f82-4041-840a-50ee17e75937"
      },
      "outputs": [
        {
          "output_type": "stream",
          "name": "stdout",
          "text": [
            "Drive already mounted at /content/drive/; to attempt to forcibly remount, call drive.mount(\"/content/drive/\", force_remount=True).\n"
          ]
        }
      ],
      "source": [
        "from google.colab import drive\n",
        "drive.mount(\"/content/drive/\")"
      ]
    },
    {
      "cell_type": "markdown",
      "metadata": {
        "id": "TOP-MdK5lWtb"
      },
      "source": [
        "**Importing Data**"
      ]
    },
    {
      "cell_type": "code",
      "execution_count": 5,
      "metadata": {
        "id": "Sr1ASlK7lR_w",
        "colab": {
          "base_uri": "https://localhost:8080/",
          "height": 423
        },
        "outputId": "359164cf-2ea8-4ed3-e143-375d1e2dcde8"
      },
      "outputs": [
        {
          "output_type": "execute_result",
          "data": {
            "text/plain": [
              "                                                   Text  Sentiment\n",
              "0     Kickers on my watchlist XIDE TIT SOQ PNK CPW B...          1\n",
              "1     user: AAP MOVIE. 55% return for the FEA/GEED i...          1\n",
              "2     user I'd be afraid to short AMZN - they are lo...          1\n",
              "3                                     MNTA Over 12.00            1\n",
              "4                                      OI  Over 21.37            1\n",
              "...                                                 ...        ...\n",
              "5786  Industry body CII said #discoms are likely to ...         -1\n",
              "5787  #Gold prices slip below Rs 46,000 as #investor...         -1\n",
              "5788  Workers at Bajaj Auto have agreed to a 10% wag...          1\n",
              "5789  #Sharemarket LIVE: Sensex off day’s high, up 6...          1\n",
              "5790  #Sensex, #Nifty climb off day's highs, still u...          1\n",
              "\n",
              "[5791 rows x 2 columns]"
            ],
            "text/html": [
              "\n",
              "  <div id=\"df-67360015-fc90-409e-a1bd-520e4747da3f\">\n",
              "    <div class=\"colab-df-container\">\n",
              "      <div>\n",
              "<style scoped>\n",
              "    .dataframe tbody tr th:only-of-type {\n",
              "        vertical-align: middle;\n",
              "    }\n",
              "\n",
              "    .dataframe tbody tr th {\n",
              "        vertical-align: top;\n",
              "    }\n",
              "\n",
              "    .dataframe thead th {\n",
              "        text-align: right;\n",
              "    }\n",
              "</style>\n",
              "<table border=\"1\" class=\"dataframe\">\n",
              "  <thead>\n",
              "    <tr style=\"text-align: right;\">\n",
              "      <th></th>\n",
              "      <th>Text</th>\n",
              "      <th>Sentiment</th>\n",
              "    </tr>\n",
              "  </thead>\n",
              "  <tbody>\n",
              "    <tr>\n",
              "      <th>0</th>\n",
              "      <td>Kickers on my watchlist XIDE TIT SOQ PNK CPW B...</td>\n",
              "      <td>1</td>\n",
              "    </tr>\n",
              "    <tr>\n",
              "      <th>1</th>\n",
              "      <td>user: AAP MOVIE. 55% return for the FEA/GEED i...</td>\n",
              "      <td>1</td>\n",
              "    </tr>\n",
              "    <tr>\n",
              "      <th>2</th>\n",
              "      <td>user I'd be afraid to short AMZN - they are lo...</td>\n",
              "      <td>1</td>\n",
              "    </tr>\n",
              "    <tr>\n",
              "      <th>3</th>\n",
              "      <td>MNTA Over 12.00</td>\n",
              "      <td>1</td>\n",
              "    </tr>\n",
              "    <tr>\n",
              "      <th>4</th>\n",
              "      <td>OI  Over 21.37</td>\n",
              "      <td>1</td>\n",
              "    </tr>\n",
              "    <tr>\n",
              "      <th>...</th>\n",
              "      <td>...</td>\n",
              "      <td>...</td>\n",
              "    </tr>\n",
              "    <tr>\n",
              "      <th>5786</th>\n",
              "      <td>Industry body CII said #discoms are likely to ...</td>\n",
              "      <td>-1</td>\n",
              "    </tr>\n",
              "    <tr>\n",
              "      <th>5787</th>\n",
              "      <td>#Gold prices slip below Rs 46,000 as #investor...</td>\n",
              "      <td>-1</td>\n",
              "    </tr>\n",
              "    <tr>\n",
              "      <th>5788</th>\n",
              "      <td>Workers at Bajaj Auto have agreed to a 10% wag...</td>\n",
              "      <td>1</td>\n",
              "    </tr>\n",
              "    <tr>\n",
              "      <th>5789</th>\n",
              "      <td>#Sharemarket LIVE: Sensex off day’s high, up 6...</td>\n",
              "      <td>1</td>\n",
              "    </tr>\n",
              "    <tr>\n",
              "      <th>5790</th>\n",
              "      <td>#Sensex, #Nifty climb off day's highs, still u...</td>\n",
              "      <td>1</td>\n",
              "    </tr>\n",
              "  </tbody>\n",
              "</table>\n",
              "<p>5791 rows × 2 columns</p>\n",
              "</div>\n",
              "      <button class=\"colab-df-convert\" onclick=\"convertToInteractive('df-67360015-fc90-409e-a1bd-520e4747da3f')\"\n",
              "              title=\"Convert this dataframe to an interactive table.\"\n",
              "              style=\"display:none;\">\n",
              "        \n",
              "  <svg xmlns=\"http://www.w3.org/2000/svg\" height=\"24px\"viewBox=\"0 0 24 24\"\n",
              "       width=\"24px\">\n",
              "    <path d=\"M0 0h24v24H0V0z\" fill=\"none\"/>\n",
              "    <path d=\"M18.56 5.44l.94 2.06.94-2.06 2.06-.94-2.06-.94-.94-2.06-.94 2.06-2.06.94zm-11 1L8.5 8.5l.94-2.06 2.06-.94-2.06-.94L8.5 2.5l-.94 2.06-2.06.94zm10 10l.94 2.06.94-2.06 2.06-.94-2.06-.94-.94-2.06-.94 2.06-2.06.94z\"/><path d=\"M17.41 7.96l-1.37-1.37c-.4-.4-.92-.59-1.43-.59-.52 0-1.04.2-1.43.59L10.3 9.45l-7.72 7.72c-.78.78-.78 2.05 0 2.83L4 21.41c.39.39.9.59 1.41.59.51 0 1.02-.2 1.41-.59l7.78-7.78 2.81-2.81c.8-.78.8-2.07 0-2.86zM5.41 20L4 18.59l7.72-7.72 1.47 1.35L5.41 20z\"/>\n",
              "  </svg>\n",
              "      </button>\n",
              "      \n",
              "  <style>\n",
              "    .colab-df-container {\n",
              "      display:flex;\n",
              "      flex-wrap:wrap;\n",
              "      gap: 12px;\n",
              "    }\n",
              "\n",
              "    .colab-df-convert {\n",
              "      background-color: #E8F0FE;\n",
              "      border: none;\n",
              "      border-radius: 50%;\n",
              "      cursor: pointer;\n",
              "      display: none;\n",
              "      fill: #1967D2;\n",
              "      height: 32px;\n",
              "      padding: 0 0 0 0;\n",
              "      width: 32px;\n",
              "    }\n",
              "\n",
              "    .colab-df-convert:hover {\n",
              "      background-color: #E2EBFA;\n",
              "      box-shadow: 0px 1px 2px rgba(60, 64, 67, 0.3), 0px 1px 3px 1px rgba(60, 64, 67, 0.15);\n",
              "      fill: #174EA6;\n",
              "    }\n",
              "\n",
              "    [theme=dark] .colab-df-convert {\n",
              "      background-color: #3B4455;\n",
              "      fill: #D2E3FC;\n",
              "    }\n",
              "\n",
              "    [theme=dark] .colab-df-convert:hover {\n",
              "      background-color: #434B5C;\n",
              "      box-shadow: 0px 1px 3px 1px rgba(0, 0, 0, 0.15);\n",
              "      filter: drop-shadow(0px 1px 2px rgba(0, 0, 0, 0.3));\n",
              "      fill: #FFFFFF;\n",
              "    }\n",
              "  </style>\n",
              "\n",
              "      <script>\n",
              "        const buttonEl =\n",
              "          document.querySelector('#df-67360015-fc90-409e-a1bd-520e4747da3f button.colab-df-convert');\n",
              "        buttonEl.style.display =\n",
              "          google.colab.kernel.accessAllowed ? 'block' : 'none';\n",
              "\n",
              "        async function convertToInteractive(key) {\n",
              "          const element = document.querySelector('#df-67360015-fc90-409e-a1bd-520e4747da3f');\n",
              "          const dataTable =\n",
              "            await google.colab.kernel.invokeFunction('convertToInteractive',\n",
              "                                                     [key], {});\n",
              "          if (!dataTable) return;\n",
              "\n",
              "          const docLinkHtml = 'Like what you see? Visit the ' +\n",
              "            '<a target=\"_blank\" href=https://colab.research.google.com/notebooks/data_table.ipynb>data table notebook</a>'\n",
              "            + ' to learn more about interactive tables.';\n",
              "          element.innerHTML = '';\n",
              "          dataTable['output_type'] = 'display_data';\n",
              "          await google.colab.output.renderOutput(dataTable, element);\n",
              "          const docLink = document.createElement('div');\n",
              "          docLink.innerHTML = docLinkHtml;\n",
              "          element.appendChild(docLink);\n",
              "        }\n",
              "      </script>\n",
              "    </div>\n",
              "  </div>\n",
              "  "
            ]
          },
          "metadata": {},
          "execution_count": 5
        }
      ],
      "source": [
        "path = \"/content/drive/MyDrive/Colab Notebooks/NUS_Fintech_Project2/stock_data.csv\"\n",
        "df = pd.read_csv(path)\n",
        "df"
      ]
    },
    {
      "cell_type": "markdown",
      "metadata": {
        "id": "JZRZvBcYw79t"
      },
      "source": [
        "**Data Preprocessing**"
      ]
    },
    {
      "cell_type": "markdown",
      "metadata": {
        "id": "1Jv2LH3sxBGC"
      },
      "source": [
        "Removing Stopwords"
      ]
    },
    {
      "cell_type": "code",
      "execution_count": 8,
      "metadata": {
        "id": "eDD5ee2__pM-"
      },
      "outputs": [],
      "source": [
        "#nltk.download('stopwords')\n",
        "from nltk.corpus import stopwords\n",
        "\n",
        "stop_words = stopwords.words('english')\n",
        "df['Text'] = df['Text'].apply(lambda x: ' '.join([word for word in x.split() if word not in (stop_words)]))"
      ]
    },
    {
      "cell_type": "code",
      "execution_count": 9,
      "metadata": {
        "id": "U_IrUSPJxAlG",
        "colab": {
          "base_uri": "https://localhost:8080/"
        },
        "outputId": "afc01a81-0d31-45a0-becc-b26b712077d0"
      },
      "outputs": [
        {
          "output_type": "execute_result",
          "data": {
            "text/plain": [
              "array(['Kickers watchlist XIDE TIT SOQ PNK CPW BPZ AJ trade method 1 method 2, see prev posts',\n",
              "       'user: AAP MOVIE. 55% return FEA/GEED indicator 15 trades year. AWESOME.',\n",
              "       \"user I'd afraid short AMZN - looking like near-monopoly eBooks infrastructure-as-a-service\",\n",
              "       ...,\n",
              "       'Workers Bajaj Auto agreed 10% wage cut period April 15 till lockdown lifted. https://t.co/RgvrKPliNd',\n",
              "       '#Sharemarket LIVE: Sensex day’s high, 600 points, #Nifty tests 9,200, #TCS, private bank stocks lead https://t.co/3xgtLroKUI',\n",
              "       \"#Sensex, #Nifty climb day's highs, still 2%; Key factors driving D-Street higher today https://t.co/jVQcousFp6\"],\n",
              "      dtype=object)"
            ]
          },
          "metadata": {},
          "execution_count": 9
        }
      ],
      "source": [
        "raw_features = df['Text'].to_numpy()\n",
        "raw_features"
      ]
    },
    {
      "cell_type": "markdown",
      "metadata": {
        "id": "jDLLIkDtxd05"
      },
      "source": [
        "Text Cleaning"
      ]
    },
    {
      "cell_type": "code",
      "execution_count": 11,
      "metadata": {
        "id": "L6mN4qhH8upF",
        "colab": {
          "base_uri": "https://localhost:8080/"
        },
        "outputId": "2eaf28a3-8c43-422c-e953-a8b445de6f7e"
      },
      "outputs": [
        {
          "output_type": "stream",
          "name": "stderr",
          "text": [
            "[nltk_data] Downloading package wordnet to /root/nltk_data...\n",
            "[nltk_data]   Package wordnet is already up-to-date!\n",
            "[nltk_data] Downloading package omw-1.4 to /root/nltk_data...\n",
            "[nltk_data]   Package omw-1.4 is already up-to-date!\n",
            "[nltk_data] Downloading package averaged_perceptron_tagger to\n",
            "[nltk_data]     /root/nltk_data...\n",
            "[nltk_data]   Package averaged_perceptron_tagger is already up-to-\n",
            "[nltk_data]       date!\n"
          ]
        }
      ],
      "source": [
        "import re\n",
        "nltk.download('wordnet')\n",
        "nltk.download('omw-1.4')\n",
        "nltk.download('averaged_perceptron_tagger')\n",
        "from nltk.corpus import stopwords, wordnet\n",
        "from nltk.stem import WordNetLemmatizer\n",
        "from nltk import pos_tag \n",
        "def text_processor(raw_text_arr):\n",
        "  #remove hyperlinks\n",
        "  res = re.sub(r'^https?:\\/\\/.*[\\r\\n]*', '', raw_text_arr, flags=re.MULTILINE)\n",
        "  #keep only alphanumerical characters\n",
        "  res = \"\".join(char for char in res if ord(char) < 128 and not char.isnumeric())\n",
        "  def get_wordnet_pos(treebank_tag):\n",
        "    if treebank_tag.startswith('J'):\n",
        "      return wordnet.ADJ\n",
        "    elif treebank_tag.startswith('V'):\n",
        "      return wordnet.VERB\n",
        "    elif treebank_tag.startswith('N'):\n",
        "      return wordnet.NOUN\n",
        "    elif treebank_tag.startswith('R'):\n",
        "      return wordnet.ADV\n",
        "    else:\n",
        "      return wordnet.NOUN\n",
        "  lemmatizer = WordNetLemmatizer()\n",
        "  res = list(map(lambda w: lemmatizer.lemmatize(w[0], pos = get_wordnet_pos(w[1])), pos_tag(res.split())))\n",
        "  res = ' '.join(res)\n",
        "\n",
        "  return res"
      ]
    },
    {
      "cell_type": "markdown",
      "metadata": {
        "id": "K5ktS67uxj3E"
      },
      "source": [
        "**Train-Test Split**"
      ]
    },
    {
      "cell_type": "code",
      "execution_count": 12,
      "metadata": {
        "id": "aq8ka80pxwTA",
        "colab": {
          "base_uri": "https://localhost:8080/"
        },
        "outputId": "a5f240e6-792f-4e38-a815-8470e210190c"
      },
      "outputs": [
        {
          "output_type": "execute_result",
          "data": {
            "text/plain": [
              "(5791, 5791)"
            ]
          },
          "metadata": {},
          "execution_count": 12
        }
      ],
      "source": [
        "X = df['Text'].to_numpy()\n",
        "X = list(map(text_processor, X))\n",
        "\n",
        "Y = df['Sentiment'].to_numpy()\n",
        "Y[Y==-1] = 0\n",
        "\n",
        "(len(X),len(Y))"
      ]
    },
    {
      "cell_type": "code",
      "execution_count": 13,
      "metadata": {
        "id": "mDZz4BAvxjUR"
      },
      "outputs": [],
      "source": [
        "from sklearn.model_selection import train_test_split\n",
        " \n",
        "\n",
        "X_train, X_test, Y_train, Y_test = train_test_split(X, Y, test_size=0.2, random_state=26, shuffle=True)\n"
      ]
    },
    {
      "cell_type": "code",
      "execution_count": 14,
      "metadata": {
        "colab": {
          "base_uri": "https://localhost:8080/"
        },
        "id": "dnnKLRS_zLoR",
        "outputId": "38b9b002-b932-4e95-a7dd-c245bc9e7f2f"
      },
      "outputs": [
        {
          "output_type": "stream",
          "name": "stdout",
          "text": [
            "4632\n",
            "1159\n",
            "4632\n",
            "1159\n"
          ]
        }
      ],
      "source": [
        "print(len(X_train))\n",
        "print(len(X_test))\n",
        "print(len(Y_train))\n",
        "print(len(Y_test))\n"
      ]
    },
    {
      "cell_type": "markdown",
      "metadata": {
        "id": "lsxEaHe7zc2C"
      },
      "source": [
        "**Tokenization**"
      ]
    },
    {
      "cell_type": "code",
      "execution_count": 15,
      "metadata": {
        "id": "g_X5g3Oazf1c"
      },
      "outputs": [],
      "source": [
        "num_words = 1000\n",
        "oov_token = '<UNK>'\n",
        "pad_type = 'post'\n",
        "trunc_type = 'post'\n",
        "# Tokenize our training data\n",
        "tokenizer = Tokenizer(num_words=num_words, oov_token=oov_token)\n",
        "tokenizer.fit_on_texts(X_train)\n",
        "# Get our training data word index\n",
        "word_index = tokenizer.word_index\n",
        "\n",
        "\n"
      ]
    },
    {
      "cell_type": "code",
      "execution_count": 16,
      "metadata": {
        "id": "NQuSp3qZC7Yi"
      },
      "outputs": [],
      "source": [
        "# Encode training data sentences into sequences\n",
        "X_train_tokenize = tokenizer.texts_to_sequences(X_train)\n",
        "X_test_tokenize = tokenizer.texts_to_sequences(X_test)"
      ]
    },
    {
      "cell_type": "code",
      "execution_count": 18,
      "metadata": {
        "id": "vNZhDaC33re0"
      },
      "outputs": [],
      "source": [
        "max_length = 30\n",
        "padding_type='post'\n",
        "truncation_type='post'\n",
        "\n",
        "X_train_padded = pad_sequences(X_train_tokenize,maxlen=max_length,padding=padding_type, truncating=truncation_type)\n",
        "X_test_padded = pad_sequences(X_test_tokenize,maxlen=max_length,padding=padding_type, truncating=truncation_type)"
      ]
    },
    {
      "cell_type": "markdown",
      "metadata": {
        "id": "O2iH9qqr8ixt"
      },
      "source": [
        "**Word Embedding Layer**"
      ]
    },
    {
      "cell_type": "code",
      "execution_count": 19,
      "metadata": {
        "id": "iTkkkVHZ8iG0",
        "colab": {
          "base_uri": "https://localhost:8080/"
        },
        "outputId": "4f750491-1b63-4e89-9ce5-ef44e79b7f0b"
      },
      "outputs": [
        {
          "output_type": "stream",
          "name": "stdout",
          "text": [
            "--2022-12-14 06:21:35--  http://nlp.stanford.edu/data/glove.6B.zip\n",
            "Resolving nlp.stanford.edu (nlp.stanford.edu)... 171.64.67.140\n",
            "Connecting to nlp.stanford.edu (nlp.stanford.edu)|171.64.67.140|:80... connected.\n",
            "HTTP request sent, awaiting response... 302 Found\n",
            "Location: https://nlp.stanford.edu/data/glove.6B.zip [following]\n",
            "--2022-12-14 06:21:35--  https://nlp.stanford.edu/data/glove.6B.zip\n",
            "Connecting to nlp.stanford.edu (nlp.stanford.edu)|171.64.67.140|:443... connected.\n",
            "HTTP request sent, awaiting response... 301 Moved Permanently\n",
            "Location: https://downloads.cs.stanford.edu/nlp/data/glove.6B.zip [following]\n",
            "--2022-12-14 06:21:36--  https://downloads.cs.stanford.edu/nlp/data/glove.6B.zip\n",
            "Resolving downloads.cs.stanford.edu (downloads.cs.stanford.edu)... 171.64.64.22\n",
            "Connecting to downloads.cs.stanford.edu (downloads.cs.stanford.edu)|171.64.64.22|:443... connected.\n",
            "HTTP request sent, awaiting response... 200 OK\n",
            "Length: 862182613 (822M) [application/zip]\n",
            "Saving to: ‘/tmp/glove.6B.zip’\n",
            "\n",
            "/tmp/glove.6B.zip   100%[===================>] 822.24M  5.02MB/s    in 2m 39s  \n",
            "\n",
            "2022-12-14 06:24:15 (5.17 MB/s) - ‘/tmp/glove.6B.zip’ saved [862182613/862182613]\n",
            "\n"
          ]
        }
      ],
      "source": [
        "!wget --no-check-certificate \\\n",
        "     http://nlp.stanford.edu/data/glove.6B.zip \\\n",
        "     -O /tmp/glove.6B.zip"
      ]
    },
    {
      "cell_type": "code",
      "execution_count": 20,
      "metadata": {
        "id": "fiXe1P_-8qgD"
      },
      "outputs": [],
      "source": [
        "import os\n",
        "import zipfile\n",
        "with zipfile.ZipFile('/tmp/glove.6B.zip', 'r') as zip_ref:\n",
        "    zip_ref.extractall('/tmp/glove')"
      ]
    },
    {
      "cell_type": "code",
      "execution_count": 21,
      "metadata": {
        "id": "YRQfAKAgE2jX",
        "colab": {
          "base_uri": "https://localhost:8080/"
        },
        "outputId": "784308e1-23dd-46ac-b9cf-134aa9d8c035"
      },
      "outputs": [
        {
          "output_type": "stream",
          "name": "stdout",
          "text": [
            "Found 400000 word vectors.\n"
          ]
        }
      ],
      "source": [
        "embeddings_index = {}\n",
        "f = open('/tmp/glove/glove.6B.100d.txt')\n",
        "for line in f:\n",
        "    values = line.split()\n",
        "    word = values[0]\n",
        "    coefs = np.asarray(values[1:], dtype='float32')\n",
        "    embeddings_index[word] = coefs\n",
        "f.close()\n",
        "\n",
        "print('Found %s word vectors.' % len(embeddings_index))"
      ]
    },
    {
      "cell_type": "code",
      "execution_count": 22,
      "metadata": {
        "id": "NADm1gk_EuAf"
      },
      "outputs": [],
      "source": [
        "embedding_matrix = np.zeros((len(word_index) + 1, 100))\n",
        "for word, i in word_index.items():\n",
        "    embedding_vector = embeddings_index.get(word)\n",
        "    if embedding_vector is not None:\n",
        "        # words not found in embedding index will be all-zeros.\n",
        "        embedding_matrix[i] = embedding_vector"
      ]
    },
    {
      "cell_type": "markdown",
      "metadata": {
        "id": "bk4iss__LrIK"
      },
      "source": [
        "**Training the Model**"
      ]
    },
    {
      "cell_type": "code",
      "execution_count": 23,
      "metadata": {
        "id": "IkFknS-ZF1Zi"
      },
      "outputs": [],
      "source": [
        "from tensorflow.keras.layers import Embedding, LSTM, Dense, Bidirectional, Dropout, BatchNormalization\n",
        "\n",
        "embedding_layer = Embedding(input_dim=len(word_index) + 1, output_dim=100, weights=[embedding_matrix], input_length=max_length, trainable=False)"
      ]
    },
    {
      "cell_type": "code",
      "execution_count": 30,
      "metadata": {
        "id": "aK6oPYMJLlbE"
      },
      "outputs": [],
      "source": [
        "model = Sequential([\n",
        "    embedding_layer,\n",
        "    Bidirectional(LSTM(128, return_sequences=True)), \n",
        "    Bidirectional(LSTM(128)),\n",
        "    Dropout(0.2),\n",
        "    BatchNormalization(),\n",
        "    Dense(128, activation='relu'),\n",
        "   Dense(1, activation='sigmoid')\n",
        "])\n",
        "\n",
        "model.compile(loss='binary_crossentropy',optimizer='adam',metrics=['accuracy'])"
      ]
    },
    {
      "cell_type": "code",
      "execution_count": 31,
      "metadata": {
        "id": "kBxrEMTSL-jS",
        "colab": {
          "base_uri": "https://localhost:8080/"
        },
        "outputId": "9524edb9-1ea2-41cb-e441-ddda4ace27f0"
      },
      "outputs": [
        {
          "output_type": "stream",
          "name": "stdout",
          "text": [
            "Epoch 1/20\n",
            "145/145 [==============================] - 64s 399ms/step - loss: 0.6320 - accuracy: 0.6567 - val_loss: 0.6331 - val_accuracy: 0.6851\n",
            "Epoch 2/20\n",
            "145/145 [==============================] - 33s 230ms/step - loss: 0.5519 - accuracy: 0.7174 - val_loss: 0.5741 - val_accuracy: 0.7032\n",
            "Epoch 3/20\n",
            "145/145 [==============================] - 34s 232ms/step - loss: 0.5255 - accuracy: 0.7345 - val_loss: 0.5740 - val_accuracy: 0.7161\n",
            "Epoch 4/20\n",
            "145/145 [==============================] - 34s 235ms/step - loss: 0.4859 - accuracy: 0.7662 - val_loss: 0.5588 - val_accuracy: 0.7282\n",
            "Epoch 5/20\n",
            "145/145 [==============================] - 34s 236ms/step - loss: 0.4491 - accuracy: 0.7884 - val_loss: 0.6331 - val_accuracy: 0.7455\n",
            "Epoch 6/20\n",
            "145/145 [==============================] - 34s 234ms/step - loss: 0.4105 - accuracy: 0.8107 - val_loss: 0.5916 - val_accuracy: 0.7204\n",
            "Epoch 7/20\n",
            "145/145 [==============================] - 36s 249ms/step - loss: 0.3864 - accuracy: 0.8178 - val_loss: 0.6301 - val_accuracy: 0.7239\n",
            "Epoch 8/20\n",
            "145/145 [==============================] - 34s 232ms/step - loss: 0.3504 - accuracy: 0.8435 - val_loss: 0.6708 - val_accuracy: 0.6972\n",
            "Epoch 9/20\n",
            "145/145 [==============================] - 34s 235ms/step - loss: 0.3270 - accuracy: 0.8562 - val_loss: 0.6364 - val_accuracy: 0.7317\n",
            "Epoch 10/20\n",
            "145/145 [==============================] - 33s 231ms/step - loss: 0.2809 - accuracy: 0.8793 - val_loss: 0.6795 - val_accuracy: 0.7360\n",
            "Epoch 11/20\n",
            "145/145 [==============================] - 33s 231ms/step - loss: 0.2543 - accuracy: 0.8936 - val_loss: 1.0808 - val_accuracy: 0.7127\n",
            "Epoch 12/20\n",
            "145/145 [==============================] - 34s 237ms/step - loss: 0.2340 - accuracy: 0.8981 - val_loss: 0.8990 - val_accuracy: 0.7386\n",
            "Epoch 13/20\n",
            "145/145 [==============================] - 37s 254ms/step - loss: 0.2120 - accuracy: 0.9111 - val_loss: 0.8160 - val_accuracy: 0.7463\n",
            "Epoch 14/20\n",
            "145/145 [==============================] - 34s 235ms/step - loss: 0.1866 - accuracy: 0.9236 - val_loss: 0.9228 - val_accuracy: 0.7472\n",
            "Epoch 15/20\n",
            "145/145 [==============================] - 34s 235ms/step - loss: 0.1499 - accuracy: 0.9419 - val_loss: 1.2694 - val_accuracy: 0.7239\n",
            "Epoch 16/20\n",
            "145/145 [==============================] - 34s 235ms/step - loss: 0.1421 - accuracy: 0.9432 - val_loss: 1.0171 - val_accuracy: 0.7437\n",
            "Epoch 17/20\n",
            "145/145 [==============================] - 34s 238ms/step - loss: 0.1065 - accuracy: 0.9573 - val_loss: 1.1717 - val_accuracy: 0.7498\n",
            "Epoch 18/20\n",
            "145/145 [==============================] - 34s 237ms/step - loss: 0.0991 - accuracy: 0.9614 - val_loss: 0.9933 - val_accuracy: 0.7446\n",
            "Epoch 19/20\n",
            "145/145 [==============================] - 37s 255ms/step - loss: 0.1018 - accuracy: 0.9603 - val_loss: 1.0313 - val_accuracy: 0.7412\n",
            "Epoch 20/20\n",
            "145/145 [==============================] - 34s 237ms/step - loss: 0.1006 - accuracy: 0.9585 - val_loss: 1.1886 - val_accuracy: 0.7308\n"
          ]
        }
      ],
      "source": [
        "history = model.fit(X_train_padded, Y_train, epochs=20, validation_data=(X_test_padded, Y_test))"
      ]
    },
    {
      "cell_type": "code",
      "source": [
        "import matplotlib.pyplot as plt\n",
        "plt.plot(history.history[\"accuracy\"],label=\"training\")\n",
        "plt.plot(history.history[\"val_accuracy\"],label=\"validation\")\n",
        "plt.xlabel(\"Epoch\")\n",
        "plt.ylabel(\"Accuracy\")\n",
        "plt.legend()\n",
        "print(\"Validation Accuracy: \"+ str(history.history[\"val_accuracy\"][-1]))"
      ],
      "metadata": {
        "colab": {
          "base_uri": "https://localhost:8080/",
          "height": 297
        },
        "id": "DtsTMhaZTVAx",
        "outputId": "6e87c9f3-d46f-4d13-c91a-9db6e5791c39"
      },
      "execution_count": 32,
      "outputs": [
        {
          "output_type": "stream",
          "name": "stdout",
          "text": [
            "Validation Accuracy: 0.7308024168014526\n"
          ]
        },
        {
          "output_type": "display_data",
          "data": {
            "text/plain": [
              "<Figure size 432x288 with 1 Axes>"
            ],
            "image/png": "[encoded data removed]"
          },
          "metadata": {
            "needs_background": "light"
          }
        }
      ]
    }
  ],
  "metadata": {
    "colab": {
      "provenance": []
    },
    "kernelspec": {
      "display_name": "Python 3",
      "name": "python3"
    },
    "language_info": {
      "name": "python"
    }
  },
  "nbformat": 4,
  "nbformat_minor": 0
}